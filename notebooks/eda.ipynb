{
 "cells": [
  {
   "cell_type": "code",
   "execution_count": null,
   "id": "9801aa45",
   "metadata": {},
   "outputs": [],
   "source": [
    "import os\n",
    "print(os.getcwd())\n"
   ]
  },
  {
   "cell_type": "code",
   "execution_count": null,
   "id": "92701ff1",
   "metadata": {},
   "outputs": [],
   "source": [
    "os.chdir('C:/Users/chira/Downloads/athira-downloads/smartviz_chatbot_project')\n"
   ]
  },
  {
   "cell_type": "code",
   "execution_count": null,
   "id": "d85b9f96",
   "metadata": {},
   "outputs": [],
   "source": [
    "!pip install seaborn \n",
    "!pip install matplotlib"
   ]
  },
  {
   "cell_type": "code",
   "execution_count": null,
   "id": "d3be87e2",
   "metadata": {},
   "outputs": [],
   "source": [
    "import pandas as pd\n",
    "import matplotlib.pyplot as plt\n",
    "import seaborn as sns\n",
    "import numpy as np\n",
    "from sqlalchemy import create_engine\n",
    "\n",
    "\n",
    "# Load from local CSVs (placed in the 'data/' folder)\n",
    "hierarchy_df = pd.read_csv('data/metrics_app_hierarchy_202506111454_backup.csv')\n",
    "timeagg_df = pd.read_csv('data/metrics_app_timeaggregated_202507091430_backup-1752067848951_cleaned.csv')\n",
    "\n",
    "\n"
   ]
  },
  {
   "cell_type": "code",
   "execution_count": null,
   "id": "57dd97a5",
   "metadata": {},
   "outputs": [],
   "source": [
    "hierarchy_df.shape"
   ]
  },
  {
   "cell_type": "code",
   "execution_count": null,
   "id": "307596d3",
   "metadata": {},
   "outputs": [],
   "source": [
    "timeagg_df.shape"
   ]
  },
  {
   "cell_type": "code",
   "execution_count": null,
   "id": "8a723be7",
   "metadata": {},
   "outputs": [],
   "source": [
    "11+14"
   ]
  },
  {
   "cell_type": "code",
   "execution_count": null,
   "id": "3ae65a79",
   "metadata": {},
   "outputs": [],
   "source": [
    "# Display basic info and first few rows\n",
    "print(\"\\n Hierarchy Dataset:\")\n",
    "print(hierarchy_df.info())\n",
    "print(hierarchy_df.head())"
   ]
  },
  {
   "cell_type": "code",
   "execution_count": null,
   "id": "b781b189",
   "metadata": {},
   "outputs": [],
   "source": [
    "print(\"\\n Time-Aggregated Dataset:\")\n",
    "print(timeagg_df.info())\n",
    "print(timeagg_df.head())"
   ]
  },
  {
   "cell_type": "code",
   "execution_count": null,
   "id": "88865be5",
   "metadata": {},
   "outputs": [],
   "source": [
    "# 1. Missing values\n",
    "print(\" Missing Values in Hierarchy:\")\n",
    "print(hierarchy_df.isnull().sum())\n",
    "\n",
    "print(\"\\n Missing Values in Time-Aggregated:\")\n",
    "print(timeagg_df.isnull().sum())\n",
    "\n",
    "# 2. Convert to datetime & check errors\n",
    "timeagg_df['start_time'] = pd.to_datetime(timeagg_df['start_time'], errors='coerce')\n",
    "print(\"\\n Converted start_time to datetime\")\n",
    "print(\"Missing or invalid start_time:\", timeagg_df['start_time'].isnull().sum())\n",
    "\n",
    "# 3. Unique metrics and overall date range\n",
    "print(\"\\n Unique Metrics:\", timeagg_df['metric_name'].nunique())\n",
    "print(\"Metrics:\", timeagg_df['metric_name'].unique())\n",
    "print(\"Date Range:\", timeagg_df['start_time'].min(), \"→\", timeagg_df['start_time'].max())\n",
    "\n",
    "# 4. Basic descriptive stats (value column)\n",
    "print(\"\\n Summary Statistics of 'value':\")\n",
    "print(timeagg_df['value'].describe())\n"
   ]
  },
  {
   "cell_type": "code",
   "execution_count": null,
   "id": "d1644362",
   "metadata": {},
   "outputs": [],
   "source": [
    "def detect_outliers_iqr(df, metric_column='value', group_by='metric_name'):\n",
    "    outlier_summary = []\n",
    "\n",
    "    for metric in df[group_by].unique():\n",
    "        sub = df[df[group_by] == metric]\n",
    "        q1 = sub[metric_column].quantile(0.25)\n",
    "        q3 = sub[metric_column].quantile(0.75)\n",
    "        iqr = q3 - q1\n",
    "        lower = q1 - 1.5 * iqr\n",
    "        upper = q3 + 1.5 * iqr\n",
    "        outliers = sub[(sub[metric_column] < lower) | (sub[metric_column] > upper)]\n",
    "        pct_outliers = 100 * len(outliers) / len(sub)\n",
    "\n",
    "        outlier_summary.append({\n",
    "            \"metric_name\": metric,\n",
    "            \"total_values\": len(sub),\n",
    "            \"outliers\": len(outliers),\n",
    "            \"%_outliers\": round(pct_outliers, 2),\n",
    "            \"value_min\": sub['value'].min(),\n",
    "            \"value_max\": sub['value'].max(),\n",
    "            \"iqr_lower\": round(lower, 2),\n",
    "            \"iqr_upper\": round(upper, 2),\n",
    "        })\n",
    "\n",
    "    return pd.DataFrame(outlier_summary)\n",
    "\n",
    "# Run the detection\n",
    "outlier_report = detect_outliers_iqr(timeagg_df)\n",
    "outlier_report\n"
   ]
  },
  {
   "cell_type": "code",
   "execution_count": null,
   "id": "b58c9e3c",
   "metadata": {},
   "outputs": [],
   "source": [
    "#  Merge the two datasets on geometry_id\n",
    "merged_df = timeagg_df.merge(hierarchy_df, on='geometry_id', how='left', validate='many_to_one')\n",
    "\n",
    "#  Check for success and nulls after merge\n",
    "print(\"\\n Merged Dataset Info:\")\n",
    "print(merged_df.info())\n",
    "print(\"\\n Missing values after merge:\")\n",
    "print(merged_df.isnull().sum())\n",
    "\n",
    "#  preview\n",
    "print(\"\\n Preview of merged data:\")\n",
    "print(merged_df.head())\n"
   ]
  },
  {
   "cell_type": "code",
   "execution_count": null,
   "id": "1acebddd",
   "metadata": {},
   "outputs": [],
   "source": [
    "print(set(timeagg_df.columns).intersection(set(hierarchy_df.columns)))\n"
   ]
  },
  {
   "cell_type": "code",
   "execution_count": null,
   "id": "410a12a0",
   "metadata": {},
   "outputs": [],
   "source": [
    "# Drop rows without display_name (important for graph + insight generation)\n",
    "merged_df = merged_df.dropna(subset=['display_name'])\n",
    "\n",
    "# Optional: also drop rows missing start_time or value\n",
    "merged_df = merged_df.dropna(subset=['start_time', 'value'])\n",
    "\n",
    "# Fill in other less critical nulls with safe defaults\n",
    "merged_df['name'] = merged_df['name'].fillna('Unknown')\n",
    "merged_df['parent'] = merged_df['parent'].fillna('Unknown')\n",
    "merged_df['hierarchy_type'] = merged_df['hierarchy_type'].fillna('Unknown')\n",
    "merged_df['longitude'] = merged_df['longitude'].fillna(0)\n",
    "merged_df['latitude'] = merged_df['latitude'].fillna(0)\n"
   ]
  },
  {
   "cell_type": "code",
   "execution_count": null,
   "id": "7ef8ed84",
   "metadata": {},
   "outputs": [],
   "source": [
    "merged_df['start_time'] = pd.to_datetime(merged_df['start_time'], errors='coerce', utc=True)\n",
    "merged_df = merged_df.dropna(subset=['start_time'])\n",
    "\n",
    "# Extract datetime features\n",
    "merged_df['hour'] = merged_df['start_time'].dt.hour\n",
    "merged_df['dayofweek'] = merged_df['start_time'].dt.dayofweek\n",
    "merged_df['is_weekend'] = merged_df['dayofweek'] >= 5\n",
    "merged_df['month'] = merged_df['start_time'].dt.month\n"
   ]
  },
  {
   "cell_type": "code",
   "execution_count": null,
   "id": "d7dad252",
   "metadata": {},
   "outputs": [],
   "source": [
    "def remove_outliers_iqr(df, value_col='value', group_col='metric_name'):\n",
    "    cleaned_df = pd.DataFrame()\n",
    "    removed_summary = []\n",
    "\n",
    "    for metric, group in df.groupby(group_col):\n",
    "        if metric == 'Occupancy':\n",
    "            # Skip filtering for Occupancy\n",
    "            inliers = group\n",
    "            outliers = pd.DataFrame()\n",
    "        else:\n",
    "            q1 = group[value_col].quantile(0.25)\n",
    "            q3 = group[value_col].quantile(0.75)\n",
    "            iqr = q3 - q1\n",
    "            lower = q1 - 1.5 * iqr\n",
    "            upper = q3 + 1.5 * iqr\n",
    "\n",
    "            inliers = group[(group[value_col] >= lower) & (group[value_col] <= upper)]\n",
    "            outliers = group[(group[value_col] < lower) | (group[value_col] > upper)]\n",
    "\n",
    "        removed_summary.append({\n",
    "            'metric_name': metric,\n",
    "            'original_count': len(group),\n",
    "            'removed_outliers': len(outliers),\n",
    "            'percent_removed': round(100 * len(outliers) / len(group), 2)\n",
    "        })\n",
    "\n",
    "        cleaned_df = pd.concat([cleaned_df, inliers], ignore_index=True)\n",
    "\n",
    "    removed_df = pd.DataFrame(removed_summary)\n",
    "    return cleaned_df, removed_df\n"
   ]
  },
  {
   "cell_type": "code",
   "execution_count": null,
   "id": "ac4f4591",
   "metadata": {},
   "outputs": [],
   "source": [
    "merged_df_cleaned, outlier_stats = remove_outliers_iqr(merged_df)\n",
    "\n",
    "# View summary of removed outliers per metric\n",
    "print(outlier_stats.sort_values(by='percent_removed', ascending=False))\n",
    "\n",
    "# Optional: inspect shape before and after\n",
    "print(f\"Original shape: {merged_df.shape}\")\n",
    "print(f\"Cleaned shape: {merged_df_cleaned.shape}\")\n"
   ]
  },
  {
   "cell_type": "code",
   "execution_count": null,
   "id": "be917fa6",
   "metadata": {},
   "outputs": [],
   "source": [
    "import matplotlib.pyplot as plt\n",
    "import seaborn as sns\n",
    "\n",
    "# Set plot style\n",
    "sns.set(style=\"whitegrid\")\n",
    "\n",
    "# Metrics to visualize\n",
    "metrics_to_plot = ['Occupancy', 'co2', 'temp', 'peopleMotion']\n",
    "\n",
    "# Plot boxplots for each selected metric\n",
    "for metric in metrics_to_plot:\n",
    "    plt.figure(figsize=(8, 5))\n",
    "    sns.boxplot(\n",
    "        x='metric_name',\n",
    "        y='value',\n",
    "        data=merged_df_cleaned[merged_df_cleaned['metric_name'] == metric],\n",
    "        color='lightblue'\n",
    "    )\n",
    "    plt.title(f\"Boxplot of {metric} (After Outlier Removal)\")\n",
    "    plt.xlabel(\"\")\n",
    "    plt.ylabel(\"Value\")\n",
    "    plt.tight_layout()\n",
    "    plt.show()\n"
   ]
  },
  {
   "cell_type": "code",
   "execution_count": null,
   "id": "ac62736b",
   "metadata": {},
   "outputs": [],
   "source": [
    "hourly_occupancy = merged_df_cleaned.groupby(merged_df_cleaned['start_time'].dt.hour)['value'].mean()\n",
    "hourly_occupancy.plot(kind='bar', figsize=(10,5), title='Average Occupancy by Hour')\n"
   ]
  },
  {
   "cell_type": "code",
   "execution_count": null,
   "id": "35fb84aa",
   "metadata": {},
   "outputs": [],
   "source": [
    "merged_df_cleaned['is_peak_hour'] = merged_df_cleaned['start_time'].dt.hour.between(7, 10)\n"
   ]
  },
  {
   "cell_type": "code",
   "execution_count": null,
   "id": "c3654950",
   "metadata": {},
   "outputs": [],
   "source": [
    "def extract_room_type(name):\n",
    "    name = str(name).lower()\n",
    "    if 'seminar' in name:\n",
    "        return 'Seminar Room'\n",
    "    elif 'lecture' in name:\n",
    "        return 'Lecture Hall'\n",
    "    elif 'restroom' in name or 'toilet' in name:\n",
    "        return 'Restroom'\n",
    "    elif 'corridor' in name:\n",
    "        return 'Corridor'\n",
    "    elif 'lobby' in name:\n",
    "        return 'Lobby'\n",
    "    elif 'lab' in name:\n",
    "        return 'Lab'\n",
    "    elif 'meeting' in name:\n",
    "        return 'Meeting Room'\n",
    "    else:\n",
    "        return 'Other'\n",
    "\n",
    "merged_df_cleaned['room_type'] = merged_df_cleaned['display_name'].apply(extract_room_type)\n"
   ]
  },
  {
   "cell_type": "code",
   "execution_count": null,
   "id": "ae484cd7",
   "metadata": {},
   "outputs": [],
   "source": [
    "# Compute average occupancy per room\n",
    "room_avg = merged_df_cleaned.groupby('display_name')['value'].mean()\n",
    "\n",
    "# Find median occupancy across all rooms\n",
    "median_occupancy = room_avg.median()\n",
    "\n",
    "# Define high or low usage per room\n",
    "room_usage_category = room_avg.apply(lambda x: 'High' if x > median_occupancy else 'Low')\n",
    "\n",
    "# Map it back to the main DataFrame\n",
    "merged_df_cleaned['usage_category'] = merged_df_cleaned['display_name'].map(room_usage_category)\n"
   ]
  },
  {
   "cell_type": "code",
   "execution_count": null,
   "id": "75649ee2",
   "metadata": {},
   "outputs": [],
   "source": [
    "print(merged_df_cleaned[['start_time', 'is_peak_hour', 'room_type', 'usage_category']].head())\n"
   ]
  },
  {
   "cell_type": "code",
   "execution_count": null,
   "id": "a9f090ac",
   "metadata": {},
   "outputs": [],
   "source": [
    "\n",
    "# Optional: Visualize occupancy by room type\n",
    "plt.figure(figsize=(10, 6))\n",
    "sns.barplot(data=merged_df_cleaned[merged_df_cleaned['metric_name'] == 'Occupancy'],\n",
    "            x=\"room_type\", y=\"value\", estimator=\"mean\", ci=None, palette=\"viridis\")\n",
    "plt.title(\"Average Occupancy by Room Type\")\n",
    "plt.ylabel(\"Average Occupancy\")\n",
    "plt.xticks(rotation=45)\n",
    "plt.tight_layout()\n",
    "plt.show()"
   ]
  },
  {
   "cell_type": "code",
   "execution_count": null,
   "id": "86dd902d",
   "metadata": {},
   "outputs": [],
   "source": [
    "# Filter only Occupancy metric\n",
    "occupancy_df = merged_df_cleaned[merged_df_cleaned['metric_name'] == 'Occupancy']\n",
    "\n",
    "# Compute average occupancy per room\n",
    "room_avg_occupancy = occupancy_df.groupby('display_name')['value'].mean().sort_values(ascending=False)\n",
    "\n",
    "# Plot average occupancy for each room\n",
    "plt.figure(figsize=(14, 6))\n",
    "sns.barplot(x=room_avg_occupancy.index, y=room_avg_occupancy.values, palette=\"coolwarm\")\n",
    "plt.xticks(rotation=90)\n",
    "plt.title(\"Average Occupancy per Room\")\n",
    "plt.ylabel(\"Average Occupancy\")\n",
    "plt.xlabel(\"Room Name\")\n",
    "plt.tight_layout()\n",
    "plt.show()\n"
   ]
  },
  {
   "cell_type": "code",
   "execution_count": null,
   "id": "4358a696",
   "metadata": {},
   "outputs": [],
   "source": [
    "import pandas as pd\n",
    "import matplotlib.pyplot as plt\n",
    "import seaborn as sns\n",
    "\n",
    "# Step 1: Compute average occupancy per room\n",
    "occupancy_by_room = (\n",
    "    merged_df_cleaned[merged_df_cleaned['metric_name'] == 'Occupancy']\n",
    "    .groupby('display_name')['value']\n",
    "    .mean()\n",
    "    .sort_values(ascending=False)\n",
    ")\n",
    "\n",
    "# Step 2: Keep top 10, group the rest into \"Other (Low Usage)\"\n",
    "top_n = 10\n",
    "top_rooms = occupancy_by_room.head(top_n)\n",
    "other_sum = occupancy_by_room.iloc[top_n:].mean()  # use mean or sum depending on message\n",
    "top_rooms['Other (Low Usage)'] = other_sum\n",
    "\n",
    "# Step 3: Convert to DataFrame for plotting\n",
    "plot_df = top_rooms.reset_index()\n",
    "plot_df.columns = ['Room Name', 'Average Occupancy']\n",
    "\n",
    "# Step 4: Add usage category for coloring\n",
    "plot_df['Usage Category'] = ['High Usage'] * top_n + ['Low Usage']\n",
    "\n",
    "# Step 5: Plot\n",
    "plt.figure(figsize=(12, 6))\n",
    "sns.barplot(data=plot_df, x='Room Name', y='Average Occupancy', hue='Usage Category', dodge=False, palette={'High Usage': 'green', 'Low Usage': 'steelblue'})\n",
    "plt.title(\"Top 10 Rooms by Average Occupancy (Others grouped)\")\n",
    "plt.xticks(rotation=45, ha='right')\n",
    "plt.tight_layout()\n",
    "plt.show()\n"
   ]
  },
  {
   "cell_type": "code",
   "execution_count": null,
   "id": "78993842",
   "metadata": {},
   "outputs": [],
   "source": [
    "merged_df_cleaned[merged_df_cleaned['metric_name'] == 'Occupancy'].describe()\n"
   ]
  },
  {
   "cell_type": "code",
   "execution_count": null,
   "id": "ec15e837",
   "metadata": {},
   "outputs": [],
   "source": [
    "#after box plot aarunu\n",
    "# 1. Save locally\n",
    "merged_df_cleaned.to_csv('data/metrics_app_merged_cleaned.csv', index=False)\n",
    "print(\" Cleaned dataset saved to 'data/metrics_app_merged_cleaned.csv'\")\n",
    "\n",
    "# 2. Save to PostgreSQL\n",
    "from sqlalchemy import create_engine\n",
    "\n",
    "# Database connection details\n",
    "DB_USER = 'postgres'\n",
    "DB_PASS = 'SmartViz2025'\n",
    "DB_HOST = 'localhost'\n",
    "DB_PORT = '5432'\n",
    "DB_NAME = 'smartviz'\n",
    "\n",
    "# Create the connection engine\n",
    "engine = create_engine(f'postgresql://{DB_USER}:{DB_PASS}@{DB_HOST}:{DB_PORT}/{DB_NAME}')\n",
    "\n",
    "# Push to Postgres, replacing existing table\n",
    "merged_df_cleaned.to_sql('metrics_app_merged', engine, if_exists='replace', index=False)\n",
    "print(\" Cleaned dataset saved to PostgreSQL table 'metrics_app_merged'\")\n"
   ]
  },
  {
   "cell_type": "code",
   "execution_count": null,
   "id": "2f25c217",
   "metadata": {},
   "outputs": [],
   "source": [
    "merged_df_cleaned.shape"
   ]
  }
 ],
 "metadata": {
  "kernelspec": {
   "display_name": "venv",
   "language": "python",
   "name": "python3"
  },
  "language_info": {
   "codemirror_mode": {
    "name": "ipython",
    "version": 3
   },
   "file_extension": ".py",
   "mimetype": "text/x-python",
   "name": "python",
   "nbconvert_exporter": "python",
   "pygments_lexer": "ipython3",
   "version": "3.10.10"
  }
 },
 "nbformat": 4,
 "nbformat_minor": 5
}
